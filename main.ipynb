{
 "cells": [
  {
   "cell_type": "markdown",
   "metadata": {},
   "source": [
    "# The Importance of Hand Washing \n",
    "\n",
    "This notebook is based on a project on DataCamp . It examines the data used by a Hungarian physisian Dr. Ignaz Semmelweis in 1840s to prove that handwashing was important and it led to a lower child-mortality at birth. \n",
    "\n",
    "**Initial background information**\n",
    "\n",
    "Yearly data from two clinics in Vienna where babies were born. We also have monthly data for clinic 1.\n",
    "\n",
    "* **Clinic 1** had medical students working there who also spent some time examining corpses and performing autopsies. \n",
    "* **Clinic 2** had mainly mid-wives working there\n",
    "\n",
    "Nobody was washing their hands until it was introduced at clinic 1 on 1 June 1847."
   ]
  },
  {
   "cell_type": "markdown",
   "metadata": {},
   "source": [
    "## Objective\n",
    "\n",
    "1. Visually examine the number of births and deaths at the two clinics. \n",
    "2. Prove if the introduction of handwashing at clinic 1 had a statistically significant impact on reducing child mortality. "
   ]
  },
  {
   "cell_type": "markdown",
   "metadata": {},
   "source": [
    "## 1. Exploratory data analysis"
   ]
  },
  {
   "cell_type": "code",
   "execution_count": 98,
   "metadata": {},
   "outputs": [],
   "source": [
    "%matplotlib inline\n",
    "import pandas as pd\n",
    "import numpy as np\n",
    "import matplotlib.pyplot as plt \n",
    "import seaborn as sns\n",
    "import datetime"
   ]
  },
  {
   "cell_type": "code",
   "execution_count": 34,
   "metadata": {},
   "outputs": [],
   "source": [
    "# import the data \n",
    "yearly = pd.read_csv('datasets/yearly_deaths_by_clinic.csv')\n",
    "monthly = pd.read_csv('datasets/monthly_deaths.csv')"
   ]
  },
  {
   "cell_type": "code",
   "execution_count": 35,
   "metadata": {},
   "outputs": [
    {
     "data": {
      "text/html": [
       "<div>\n",
       "<style scoped>\n",
       "    .dataframe tbody tr th:only-of-type {\n",
       "        vertical-align: middle;\n",
       "    }\n",
       "\n",
       "    .dataframe tbody tr th {\n",
       "        vertical-align: top;\n",
       "    }\n",
       "\n",
       "    .dataframe thead th {\n",
       "        text-align: right;\n",
       "    }\n",
       "</style>\n",
       "<table border=\"1\" class=\"dataframe\">\n",
       "  <thead>\n",
       "    <tr style=\"text-align: right;\">\n",
       "      <th></th>\n",
       "      <th>year</th>\n",
       "      <th>births</th>\n",
       "      <th>deaths</th>\n",
       "      <th>clinic</th>\n",
       "    </tr>\n",
       "  </thead>\n",
       "  <tbody>\n",
       "    <tr>\n",
       "      <th>0</th>\n",
       "      <td>1841</td>\n",
       "      <td>3036</td>\n",
       "      <td>237</td>\n",
       "      <td>clinic 1</td>\n",
       "    </tr>\n",
       "    <tr>\n",
       "      <th>1</th>\n",
       "      <td>1842</td>\n",
       "      <td>3287</td>\n",
       "      <td>518</td>\n",
       "      <td>clinic 1</td>\n",
       "    </tr>\n",
       "    <tr>\n",
       "      <th>2</th>\n",
       "      <td>1843</td>\n",
       "      <td>3060</td>\n",
       "      <td>274</td>\n",
       "      <td>clinic 1</td>\n",
       "    </tr>\n",
       "    <tr>\n",
       "      <th>3</th>\n",
       "      <td>1844</td>\n",
       "      <td>3157</td>\n",
       "      <td>260</td>\n",
       "      <td>clinic 1</td>\n",
       "    </tr>\n",
       "    <tr>\n",
       "      <th>4</th>\n",
       "      <td>1845</td>\n",
       "      <td>3492</td>\n",
       "      <td>241</td>\n",
       "      <td>clinic 1</td>\n",
       "    </tr>\n",
       "  </tbody>\n",
       "</table>\n",
       "</div>"
      ],
      "text/plain": [
       "   year  births  deaths    clinic\n",
       "0  1841    3036     237  clinic 1\n",
       "1  1842    3287     518  clinic 1\n",
       "2  1843    3060     274  clinic 1\n",
       "3  1844    3157     260  clinic 1\n",
       "4  1845    3492     241  clinic 1"
      ]
     },
     "metadata": {},
     "output_type": "display_data"
    },
    {
     "name": "stdout",
     "output_type": "stream",
     "text": [
      "<class 'pandas.core.frame.DataFrame'>\n",
      "RangeIndex: 12 entries, 0 to 11\n",
      "Data columns (total 4 columns):\n",
      " #   Column  Non-Null Count  Dtype \n",
      "---  ------  --------------  ----- \n",
      " 0   year    12 non-null     int64 \n",
      " 1   births  12 non-null     int64 \n",
      " 2   deaths  12 non-null     int64 \n",
      " 3   clinic  12 non-null     object\n",
      "dtypes: int64(3), object(1)\n",
      "memory usage: 512.0+ bytes\n"
     ]
    },
    {
     "data": {
      "text/plain": [
       "None"
      ]
     },
     "metadata": {},
     "output_type": "display_data"
    },
    {
     "data": {
      "text/html": [
       "<div>\n",
       "<style scoped>\n",
       "    .dataframe tbody tr th:only-of-type {\n",
       "        vertical-align: middle;\n",
       "    }\n",
       "\n",
       "    .dataframe tbody tr th {\n",
       "        vertical-align: top;\n",
       "    }\n",
       "\n",
       "    .dataframe thead th {\n",
       "        text-align: right;\n",
       "    }\n",
       "</style>\n",
       "<table border=\"1\" class=\"dataframe\">\n",
       "  <thead>\n",
       "    <tr style=\"text-align: right;\">\n",
       "      <th></th>\n",
       "      <th>date</th>\n",
       "      <th>births</th>\n",
       "      <th>deaths</th>\n",
       "    </tr>\n",
       "  </thead>\n",
       "  <tbody>\n",
       "    <tr>\n",
       "      <th>0</th>\n",
       "      <td>1841-01-01</td>\n",
       "      <td>254</td>\n",
       "      <td>37</td>\n",
       "    </tr>\n",
       "    <tr>\n",
       "      <th>1</th>\n",
       "      <td>1841-02-01</td>\n",
       "      <td>239</td>\n",
       "      <td>18</td>\n",
       "    </tr>\n",
       "    <tr>\n",
       "      <th>2</th>\n",
       "      <td>1841-03-01</td>\n",
       "      <td>277</td>\n",
       "      <td>12</td>\n",
       "    </tr>\n",
       "    <tr>\n",
       "      <th>3</th>\n",
       "      <td>1841-04-01</td>\n",
       "      <td>255</td>\n",
       "      <td>4</td>\n",
       "    </tr>\n",
       "    <tr>\n",
       "      <th>4</th>\n",
       "      <td>1841-05-01</td>\n",
       "      <td>255</td>\n",
       "      <td>2</td>\n",
       "    </tr>\n",
       "  </tbody>\n",
       "</table>\n",
       "</div>"
      ],
      "text/plain": [
       "         date  births  deaths\n",
       "0  1841-01-01     254      37\n",
       "1  1841-02-01     239      18\n",
       "2  1841-03-01     277      12\n",
       "3  1841-04-01     255       4\n",
       "4  1841-05-01     255       2"
      ]
     },
     "metadata": {},
     "output_type": "display_data"
    },
    {
     "name": "stdout",
     "output_type": "stream",
     "text": [
      "<class 'pandas.core.frame.DataFrame'>\n",
      "RangeIndex: 98 entries, 0 to 97\n",
      "Data columns (total 3 columns):\n",
      " #   Column  Non-Null Count  Dtype \n",
      "---  ------  --------------  ----- \n",
      " 0   date    98 non-null     object\n",
      " 1   births  98 non-null     int64 \n",
      " 2   deaths  98 non-null     int64 \n",
      "dtypes: int64(2), object(1)\n",
      "memory usage: 2.4+ KB\n"
     ]
    },
    {
     "data": {
      "text/plain": [
       "None"
      ]
     },
     "metadata": {},
     "output_type": "display_data"
    }
   ],
   "source": [
    "# print some initial stats about the data \n",
    "display(yearly.head())\n",
    "display(yearly.info())\n",
    "# display(yearly.describe())\n",
    "display(monthly.head())\n",
    "display(monthly.info())\n",
    "# display(monthly.describe())"
   ]
  },
  {
   "cell_type": "markdown",
   "metadata": {},
   "source": [
    "### Comparing clinics overall "
   ]
  },
  {
   "cell_type": "code",
   "execution_count": 36,
   "metadata": {},
   "outputs": [
    {
     "data": {
      "text/html": [
       "<div>\n",
       "<style scoped>\n",
       "    .dataframe tbody tr th:only-of-type {\n",
       "        vertical-align: middle;\n",
       "    }\n",
       "\n",
       "    .dataframe tbody tr th {\n",
       "        vertical-align: top;\n",
       "    }\n",
       "\n",
       "    .dataframe thead th {\n",
       "        text-align: right;\n",
       "    }\n",
       "</style>\n",
       "<table border=\"1\" class=\"dataframe\">\n",
       "  <thead>\n",
       "    <tr style=\"text-align: right;\">\n",
       "      <th></th>\n",
       "      <th>births</th>\n",
       "      <th>deaths</th>\n",
       "      <th>mortality</th>\n",
       "    </tr>\n",
       "    <tr>\n",
       "      <th>clinic</th>\n",
       "      <th></th>\n",
       "      <th></th>\n",
       "      <th></th>\n",
       "    </tr>\n",
       "  </thead>\n",
       "  <tbody>\n",
       "    <tr>\n",
       "      <th>clinic 1</th>\n",
       "      <td>20042</td>\n",
       "      <td>1989</td>\n",
       "      <td>0.099242</td>\n",
       "    </tr>\n",
       "    <tr>\n",
       "      <th>clinic 2</th>\n",
       "      <td>17791</td>\n",
       "      <td>691</td>\n",
       "      <td>0.038840</td>\n",
       "    </tr>\n",
       "  </tbody>\n",
       "</table>\n",
       "</div>"
      ],
      "text/plain": [
       "          births  deaths  mortality\n",
       "clinic                             \n",
       "clinic 1   20042    1989   0.099242\n",
       "clinic 2   17791     691   0.038840"
      ]
     },
     "execution_count": 36,
     "metadata": {},
     "output_type": "execute_result"
    }
   ],
   "source": [
    "# calculate some quick comparison statistics \n",
    "clinics = yearly.groupby('clinic').agg({'births':'sum', 'deaths':'sum'})\n",
    "clinics['mortality'] = clinics['deaths'] / clinics['births']\n",
    "clinics"
   ]
  },
  {
   "cell_type": "code",
   "execution_count": 37,
   "metadata": {},
   "outputs": [
    {
     "data": {
      "image/png": "[encoded data removed]",
      "text/plain": [
       "<Figure size 1080x360 with 3 Axes>"
      ]
     },
     "metadata": {
      "needs_background": "light"
     },
     "output_type": "display_data"
    }
   ],
   "source": [
    "# create a plt grid\n",
    "fix, axs = plt.subplots(1, 3, figsize=(15,5))\n",
    "\n",
    "# plot some key totals between clinics\n",
    "_ = clinics['births'].plot.bar(ax=axs[0], title='births', color='#242BAE')\n",
    "_ = clinics['deaths'].plot.bar(ax=axs[1], title='deaths', color='#6224AE')\n",
    "_ = clinics['mortality'].plot.bar(ax=axs[2], title='mortality rate', color='#AE242B')"
   ]
  },
  {
   "cell_type": "markdown",
   "metadata": {},
   "source": [
    "While the number total number of births between clinics is very similar, there are far fewer deaths occuring at clinic 2. Consequently, the mortality rate at clinic 2 is about 2/3 lower than at clinic 1. "
   ]
  },
  {
   "cell_type": "markdown",
   "metadata": {},
   "source": [
    "### Mortality rate between clinics over the years"
   ]
  },
  {
   "cell_type": "code",
   "execution_count": 38,
   "metadata": {},
   "outputs": [
    {
     "data": {
      "text/html": [
       "<div>\n",
       "<style scoped>\n",
       "    .dataframe tbody tr th:only-of-type {\n",
       "        vertical-align: middle;\n",
       "    }\n",
       "\n",
       "    .dataframe tbody tr th {\n",
       "        vertical-align: top;\n",
       "    }\n",
       "\n",
       "    .dataframe thead th {\n",
       "        text-align: right;\n",
       "    }\n",
       "</style>\n",
       "<table border=\"1\" class=\"dataframe\">\n",
       "  <thead>\n",
       "    <tr style=\"text-align: right;\">\n",
       "      <th></th>\n",
       "      <th>year</th>\n",
       "      <th>births</th>\n",
       "      <th>deaths</th>\n",
       "      <th>clinic</th>\n",
       "      <th>mortality</th>\n",
       "    </tr>\n",
       "  </thead>\n",
       "  <tbody>\n",
       "    <tr>\n",
       "      <th>0</th>\n",
       "      <td>1841</td>\n",
       "      <td>3036</td>\n",
       "      <td>237</td>\n",
       "      <td>clinic 1</td>\n",
       "      <td>0.078063</td>\n",
       "    </tr>\n",
       "    <tr>\n",
       "      <th>1</th>\n",
       "      <td>1842</td>\n",
       "      <td>3287</td>\n",
       "      <td>518</td>\n",
       "      <td>clinic 1</td>\n",
       "      <td>0.157591</td>\n",
       "    </tr>\n",
       "    <tr>\n",
       "      <th>2</th>\n",
       "      <td>1843</td>\n",
       "      <td>3060</td>\n",
       "      <td>274</td>\n",
       "      <td>clinic 1</td>\n",
       "      <td>0.089542</td>\n",
       "    </tr>\n",
       "    <tr>\n",
       "      <th>3</th>\n",
       "      <td>1844</td>\n",
       "      <td>3157</td>\n",
       "      <td>260</td>\n",
       "      <td>clinic 1</td>\n",
       "      <td>0.082357</td>\n",
       "    </tr>\n",
       "    <tr>\n",
       "      <th>4</th>\n",
       "      <td>1845</td>\n",
       "      <td>3492</td>\n",
       "      <td>241</td>\n",
       "      <td>clinic 1</td>\n",
       "      <td>0.069015</td>\n",
       "    </tr>\n",
       "  </tbody>\n",
       "</table>\n",
       "</div>"
      ],
      "text/plain": [
       "   year  births  deaths    clinic  mortality\n",
       "0  1841    3036     237  clinic 1   0.078063\n",
       "1  1842    3287     518  clinic 1   0.157591\n",
       "2  1843    3060     274  clinic 1   0.089542\n",
       "3  1844    3157     260  clinic 1   0.082357\n",
       "4  1845    3492     241  clinic 1   0.069015"
      ]
     },
     "execution_count": 38,
     "metadata": {},
     "output_type": "execute_result"
    }
   ],
   "source": [
    "# calculate the mortality rate by year\n",
    "yearly['mortality'] = yearly['deaths'] / yearly['births']\n",
    "yearly.head()"
   ]
  },
  {
   "cell_type": "code",
   "execution_count": 65,
   "metadata": {},
   "outputs": [
    {
     "data": {
      "text/plain": [
       "year\n",
       "1841    0.042846\n",
       "1842    0.081622\n",
       "1843    0.029667\n",
       "1844    0.059353\n",
       "1845    0.048651\n",
       "1846    0.086494\n",
       "Name: mortality, dtype: float64"
      ]
     },
     "execution_count": 65,
     "metadata": {},
     "output_type": "execute_result"
    }
   ],
   "source": [
    "# calculate the difference in mortality rates between clinics \n",
    "clinic_1 = yearly[yearly['clinic'] == 'clinic 1'].set_index('year')\n",
    "clinic_2 = yearly[yearly['clinic'] == 'clinic 2'].set_index('year')\n",
    "difference = clinic_1['mortality'] - clinic_2['mortality']"
   ]
  },
  {
   "cell_type": "code",
   "execution_count": 69,
   "metadata": {},
   "outputs": [
    {
     "data": {
      "image/png": "[encoded data removed]",
      "text/plain": [
       "<Figure size 1080x360 with 2 Axes>"
      ]
     },
     "metadata": {
      "needs_background": "light"
     },
     "output_type": "display_data"
    }
   ],
   "source": [
    "# create a plt grid\n",
    "fix, axs = plt.subplots(1, 2, figsize=(15,5))\n",
    "\n",
    "# plot the moratlity rate over time and the difference in mortality \n",
    "_ = sns.lineplot(data=yearly, x='year', y='mortality', hue='clinic', palette=['#AE242B', '#8E8E8E'], ax=axs[0])\n",
    "_ = difference.plot.bar(ax=axs[1], color='#AE242B', title='clinic 1 mortality rate above clinic 2\\'s rate')"
   ]
  },
  {
   "cell_type": "code",
   "execution_count": 71,
   "metadata": {},
   "outputs": [
    {
     "name": "stdout",
     "output_type": "stream",
     "text": [
      "The worst year for clinic 1 was 1842 when the mortality rate was 15.8%\n"
     ]
    }
   ],
   "source": [
    "# find out the worst year for clinic 1\n",
    "worst_year_c1 = yearly[yearly['clinic'] == 'clinic 1'].nlargest(1, columns=['mortality'])\n",
    "int(worst_year_c1['year'])\n",
    "print ('The worst year for clinic 1 was {} when the mortality rate was {:.1%}'\n",
    "       .format(int(worst_year_c1['year']), float(worst_year_c1['mortality']) ))"
   ]
  },
  {
   "cell_type": "markdown",
   "metadata": {},
   "source": [
    "## 2. The impact of handwashing "
   ]
  },
  {
   "cell_type": "code",
   "execution_count": 129,
   "metadata": {},
   "outputs": [
    {
     "data": {
      "text/plain": [
       "76"
      ]
     },
     "execution_count": 129,
     "metadata": {},
     "output_type": "execute_result"
    }
   ],
   "source": [
    "# set the date when they started washing hands at clinic 1\n",
    "started_on = datetime.date(1847, 6, 1)\n",
    "# monthly[monthly['date'] == str(started_on)].index[0]"
   ]
  },
  {
   "cell_type": "code",
   "execution_count": 139,
   "metadata": {},
   "outputs": [
    {
     "data": {
      "text/plain": [
       "Text(0.5, 1.0, 'Mortality rate at clinic 1')"
      ]
     },
     "execution_count": 139,
     "metadata": {},
     "output_type": "execute_result"
    },
    {
     "data": {
      "image/png": "[encoded data removed]",
      "text/plain": [
       "<Figure size 432x288 with 1 Axes>"
      ]
     },
     "metadata": {
      "needs_background": "light"
     },
     "output_type": "display_data"
    }
   ],
   "source": [
    "# convert date to datetime\n",
    "monthly['date'] = pd.to_datetime(monthly['date'])\n",
    "\n",
    "# calculate mortality at clinic 1\n",
    "monthly['mortality'] = monthly['deaths'] / monthly['births']\n",
    "\n",
    "# calculate 3-month rolling average \n",
    "monthly['mortality_ma_6_months'] = monthly['deaths'].rolling(6).sum() / monthly['births'].rolling(6).sum()\n",
    "monthly\n",
    "\n",
    "# plot \n",
    "# _ = monthly.plot(x='date', y='mortality', color='#8E8E8E', style='--', label='actual rate')\n",
    "# _ = monthly.plot(x='date', y='mortality_ma_6_months', color='#AE242B', label='6 month moving average')\n",
    "_ = monthly['mortality'].plot(color='#8E8E8E', style='--', label='actual rate')\n",
    "_ = monthly['mortality_ma_6_months'].plot(color='#AE242B', label='6 month MA')\n",
    "\n",
    "# plot a vertical line for when they started to wash hands \n",
    "x_line = monthly[monthly['date'] == str(started_on)].index[0]\n",
    "plt.axvline(x=x_line, color='#242BAE')\n",
    "\n",
    "# finish up \n",
    "plt.legend()\n",
    "plt.title('Mortality rate at clinic 1')"
   ]
  },
  {
   "cell_type": "markdown",
   "metadata": {},
   "source": [
    "It's very obvious that the moment they started to wash hands, the death rate at clinic 1 decreased rapidly. "
   ]
  },
  {
   "cell_type": "markdown",
   "metadata": {},
   "source": [
    "## 3. Measuring the significance of the decrease in mortality "
   ]
  },
  {
   "cell_type": "code",
   "execution_count": 144,
   "metadata": {},
   "outputs": [
    {
     "name": "stdout",
     "output_type": "stream",
     "text": [
      "The mean mortality rate before handwashing was 10.5% and after it was 2.1%\n"
     ]
    }
   ],
   "source": [
    "# calculate the mean mortality rates before and after handwashing \n",
    "before = monthly[monthly['date'] < str(started_on)]\n",
    "after = monthly[monthly['date'] >= str(started_on)]\n",
    "\n",
    "print('The mean mortality rate before handwashing was {:.1%} and after it was {:.1%}'\n",
    "      .format(before['mortality'].mean(), after['mortality'].mean()))\n"
   ]
  },
  {
   "cell_type": "code",
   "execution_count": 160,
   "metadata": {},
   "outputs": [],
   "source": [
    "# examine how robust this difference in means is with bootstrap sampling \n",
    "bs_means = []\n",
    "for i in range(5000):\n",
    "    bs_mean_before = before['mortality'].sample(frac=1, replace=True).mean()\n",
    "    bs_mean_after = after['mortality'].sample(frac=1, replace=True).mean()\n",
    "    bs_means.append([bs_mean_before, bs_mean_after])"
   ]
  },
  {
   "cell_type": "code",
   "execution_count": 161,
   "metadata": {},
   "outputs": [],
   "source": [
    "# turn the bootstrapped statistics into a DataFrame for easier plotting\n",
    "bs_means_df = pd.DataFrame(data=bs_means, columns=['before','after'])\n",
    "\n",
    "# calculate the difference in means \n",
    "bs_means_df['diff'] = bs_means_df['after'] - bs_means_df['before']"
   ]
  },
  {
   "cell_type": "code",
   "execution_count": 170,
   "metadata": {},
   "outputs": [
    {
     "data": {
      "text/plain": [
       "Text(0.5, 0, 'mortality rate')"
      ]
     },
     "execution_count": 170,
     "metadata": {},
     "output_type": "execute_result"
    },
    {
     "data": {
      "image/png": "[encoded data removed]",
      "text/plain": [
       "<Figure size 432x288 with 1 Axes>"
      ]
     },
     "metadata": {
      "needs_background": "light"
     },
     "output_type": "display_data"
    }
   ],
   "source": [
    "# plot kde \n",
    "bs_means_df[['before','after']].plot.kde(color=['#AE242B','#242BAE'])\n",
    "plt.xlabel('mortality rate')"
   ]
  },
  {
   "cell_type": "code",
   "execution_count": 166,
   "metadata": {},
   "outputs": [
    {
     "data": {
      "text/plain": [
       "0.025   -0.101336\n",
       "0.975   -0.066919\n",
       "Name: diff, dtype: float64"
      ]
     },
     "metadata": {},
     "output_type": "display_data"
    }
   ],
   "source": [
    "# calculate the 95% CI for the difference in means\n",
    "# ci = pd.Series(boot_mean_diff).quantile([0.025, 0.975])\n",
    "ci = bs_means_df['diff'].quantile([0.025, 0.975])\n",
    "display(ci)"
   ]
  },
  {
   "cell_type": "markdown",
   "metadata": {},
   "source": [
    "The is no doubt that the introduction of handwashing had a positive impact on reducing child mortality at clinic 1. With 5,000 bootstrapped samples we can say with 95% certainty that the mean reduction in mortality rates was between 6.7% and 10.1% (percentage points). "
   ]
  }
 ],
 "metadata": {
  "kernelspec": {
   "display_name": "Python 3",
   "language": "python",
   "name": "python3"
  },
  "language_info": {
   "codemirror_mode": {
    "name": "ipython",
    "version": 3
   },
   "file_extension": ".py",
   "mimetype": "text/x-python",
   "name": "python",
   "nbconvert_exporter": "python",
   "pygments_lexer": "ipython3",
   "version": "3.7.7"
  }
 },
 "nbformat": 4,
 "nbformat_minor": 4
}
